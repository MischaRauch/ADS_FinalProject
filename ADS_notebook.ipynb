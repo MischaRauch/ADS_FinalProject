{
 "cells": [
  {
   "cell_type": "markdown",
   "id": "ccc756e9",
   "metadata": {},
   "source": [
    "# Final Project for the Applied Data Science Course at Reykjavik University\n",
    "### This notebook uses the [Apartment rental offers in Germany](https://www.kaggle.com/datasets/corrieaar/apartment-rental-offers-in-germany?resource=download) dataset from kaggle\n",
    "### Alice Tedeschi & Mischa Rauch"
   ]
  },
  {
   "cell_type": "code",
   "execution_count": 2,
   "id": "98ec4c23",
   "metadata": {},
   "outputs": [
    {
     "name": "stderr",
     "output_type": "stream",
     "text": [
      "2022-12-02 10:26:18.060597: I tensorflow/core/platform/cpu_feature_guard.cc:193] This TensorFlow binary is optimized with oneAPI Deep Neural Network Library (oneDNN) to use the following CPU instructions in performance-critical operations:  AVX2 FMA\n",
      "To enable them in other operations, rebuild TensorFlow with the appropriate compiler flags.\n"
     ]
    }
   ],
   "source": [
    "# Imports\n",
    "import tensorflow as tf\n",
    "import pandas as pd\n",
    "from tensorflow import keras\n",
    "import numpy as np\n",
    "import matplotlib.pyplot as plt\n",
    "\n",
    "\n",
    "# Optionally run this cell to get interactive (zoom-able and pan-able)\n",
    "# matplotlib figures. This does not work e.g. in Google Colab.\n",
    "%matplotlib notebook\n",
    "# Widen the output format for our dataset which contains at most 49 columns\n",
    "pd.set_option('display.max_columns', 49)"
   ]
  },
  {
   "cell_type": "markdown",
   "id": "9a3da444",
   "metadata": {},
   "source": [
    "### Data exploration"
   ]
  },
  {
   "cell_type": "code",
   "execution_count": 5,
   "id": "8114e25f",
   "metadata": {},
   "outputs": [],
   "source": [
    "# Load Data\n",
    "df = pd.read_csv('data/immo_data.csv')"
   ]
  },
  {
   "cell_type": "code",
   "execution_count": 8,
   "id": "96a128c4",
   "metadata": {},
   "outputs": [
    {
     "data": {
      "text/plain": [
       "(268850, 49)"
      ]
     },
     "execution_count": 8,
     "metadata": {},
     "output_type": "execute_result"
    }
   ],
   "source": [
    "df.shape"
   ]
  },
  {
   "cell_type": "code",
   "execution_count": 7,
   "id": "6590c1d0",
   "metadata": {},
   "outputs": [
    {
     "data": {
      "text/html": [
       "<div>\n",
       "<style scoped>\n",
       "    .dataframe tbody tr th:only-of-type {\n",
       "        vertical-align: middle;\n",
       "    }\n",
       "\n",
       "    .dataframe tbody tr th {\n",
       "        vertical-align: top;\n",
       "    }\n",
       "\n",
       "    .dataframe thead th {\n",
       "        text-align: right;\n",
       "    }\n",
       "</style>\n",
       "<table border=\"1\" class=\"dataframe\">\n",
       "  <thead>\n",
       "    <tr style=\"text-align: right;\">\n",
       "      <th></th>\n",
       "      <th>regio1</th>\n",
       "      <th>serviceCharge</th>\n",
       "      <th>heatingType</th>\n",
       "      <th>telekomTvOffer</th>\n",
       "      <th>telekomHybridUploadSpeed</th>\n",
       "      <th>newlyConst</th>\n",
       "      <th>balcony</th>\n",
       "      <th>picturecount</th>\n",
       "      <th>pricetrend</th>\n",
       "      <th>telekomUploadSpeed</th>\n",
       "      <th>...</th>\n",
       "      <th>regio2</th>\n",
       "      <th>regio3</th>\n",
       "      <th>description</th>\n",
       "      <th>facilities</th>\n",
       "      <th>heatingCosts</th>\n",
       "      <th>energyEfficiencyClass</th>\n",
       "      <th>lastRefurbish</th>\n",
       "      <th>electricityBasePrice</th>\n",
       "      <th>electricityKwhPrice</th>\n",
       "      <th>date</th>\n",
       "    </tr>\n",
       "  </thead>\n",
       "  <tbody>\n",
       "    <tr>\n",
       "      <th>count</th>\n",
       "      <td>268850</td>\n",
       "      <td>261941.000000</td>\n",
       "      <td>223994</td>\n",
       "      <td>236231</td>\n",
       "      <td>45020.0</td>\n",
       "      <td>268850</td>\n",
       "      <td>268850</td>\n",
       "      <td>268850.000000</td>\n",
       "      <td>267018.000000</td>\n",
       "      <td>235492.000000</td>\n",
       "      <td>...</td>\n",
       "      <td>268850</td>\n",
       "      <td>268850</td>\n",
       "      <td>249103</td>\n",
       "      <td>215926</td>\n",
       "      <td>85518.000000</td>\n",
       "      <td>77787</td>\n",
       "      <td>80711.000000</td>\n",
       "      <td>46846.000000</td>\n",
       "      <td>46846.000000</td>\n",
       "      <td>268850</td>\n",
       "    </tr>\n",
       "    <tr>\n",
       "      <th>unique</th>\n",
       "      <td>16</td>\n",
       "      <td>NaN</td>\n",
       "      <td>13</td>\n",
       "      <td>3</td>\n",
       "      <td>NaN</td>\n",
       "      <td>2</td>\n",
       "      <td>2</td>\n",
       "      <td>NaN</td>\n",
       "      <td>NaN</td>\n",
       "      <td>NaN</td>\n",
       "      <td>...</td>\n",
       "      <td>419</td>\n",
       "      <td>8684</td>\n",
       "      <td>212621</td>\n",
       "      <td>189526</td>\n",
       "      <td>NaN</td>\n",
       "      <td>10</td>\n",
       "      <td>NaN</td>\n",
       "      <td>NaN</td>\n",
       "      <td>NaN</td>\n",
       "      <td>4</td>\n",
       "    </tr>\n",
       "    <tr>\n",
       "      <th>top</th>\n",
       "      <td>Nordrhein_Westfalen</td>\n",
       "      <td>NaN</td>\n",
       "      <td>central_heating</td>\n",
       "      <td>ONE_YEAR_FREE</td>\n",
       "      <td>NaN</td>\n",
       "      <td>False</td>\n",
       "      <td>True</td>\n",
       "      <td>NaN</td>\n",
       "      <td>NaN</td>\n",
       "      <td>NaN</td>\n",
       "      <td>...</td>\n",
       "      <td>Leipzig</td>\n",
       "      <td>Innenstadt</td>\n",
       "      <td>+ MEIN GUENTZ - Quartier der Generationen\\r\\n+...</td>\n",
       "      <td>Laminat</td>\n",
       "      <td>NaN</td>\n",
       "      <td>C</td>\n",
       "      <td>NaN</td>\n",
       "      <td>NaN</td>\n",
       "      <td>NaN</td>\n",
       "      <td>Feb20</td>\n",
       "    </tr>\n",
       "    <tr>\n",
       "      <th>freq</th>\n",
       "      <td>62863</td>\n",
       "      <td>NaN</td>\n",
       "      <td>128977</td>\n",
       "      <td>227632</td>\n",
       "      <td>NaN</td>\n",
       "      <td>247679</td>\n",
       "      <td>165734</td>\n",
       "      <td>NaN</td>\n",
       "      <td>NaN</td>\n",
       "      <td>NaN</td>\n",
       "      <td>...</td>\n",
       "      <td>13723</td>\n",
       "      <td>4751</td>\n",
       "      <td>216</td>\n",
       "      <td>207</td>\n",
       "      <td>NaN</td>\n",
       "      <td>14613</td>\n",
       "      <td>NaN</td>\n",
       "      <td>NaN</td>\n",
       "      <td>NaN</td>\n",
       "      <td>79276</td>\n",
       "    </tr>\n",
       "    <tr>\n",
       "      <th>mean</th>\n",
       "      <td>NaN</td>\n",
       "      <td>151.206113</td>\n",
       "      <td>NaN</td>\n",
       "      <td>NaN</td>\n",
       "      <td>10.0</td>\n",
       "      <td>NaN</td>\n",
       "      <td>NaN</td>\n",
       "      <td>9.791958</td>\n",
       "      <td>3.389001</td>\n",
       "      <td>28.804928</td>\n",
       "      <td>...</td>\n",
       "      <td>NaN</td>\n",
       "      <td>NaN</td>\n",
       "      <td>NaN</td>\n",
       "      <td>NaN</td>\n",
       "      <td>76.990866</td>\n",
       "      <td>NaN</td>\n",
       "      <td>2013.904536</td>\n",
       "      <td>89.113612</td>\n",
       "      <td>0.199769</td>\n",
       "      <td>NaN</td>\n",
       "    </tr>\n",
       "    <tr>\n",
       "      <th>std</th>\n",
       "      <td>NaN</td>\n",
       "      <td>308.295790</td>\n",
       "      <td>NaN</td>\n",
       "      <td>NaN</td>\n",
       "      <td>0.0</td>\n",
       "      <td>NaN</td>\n",
       "      <td>NaN</td>\n",
       "      <td>6.408399</td>\n",
       "      <td>1.964874</td>\n",
       "      <td>16.337151</td>\n",
       "      <td>...</td>\n",
       "      <td>NaN</td>\n",
       "      <td>NaN</td>\n",
       "      <td>NaN</td>\n",
       "      <td>NaN</td>\n",
       "      <td>147.716278</td>\n",
       "      <td>NaN</td>\n",
       "      <td>10.963125</td>\n",
       "      <td>5.395805</td>\n",
       "      <td>0.009667</td>\n",
       "      <td>NaN</td>\n",
       "    </tr>\n",
       "    <tr>\n",
       "      <th>min</th>\n",
       "      <td>NaN</td>\n",
       "      <td>0.000000</td>\n",
       "      <td>NaN</td>\n",
       "      <td>NaN</td>\n",
       "      <td>10.0</td>\n",
       "      <td>NaN</td>\n",
       "      <td>NaN</td>\n",
       "      <td>0.000000</td>\n",
       "      <td>-12.330000</td>\n",
       "      <td>1.000000</td>\n",
       "      <td>...</td>\n",
       "      <td>NaN</td>\n",
       "      <td>NaN</td>\n",
       "      <td>NaN</td>\n",
       "      <td>NaN</td>\n",
       "      <td>0.000000</td>\n",
       "      <td>NaN</td>\n",
       "      <td>1015.000000</td>\n",
       "      <td>71.430000</td>\n",
       "      <td>0.170500</td>\n",
       "      <td>NaN</td>\n",
       "    </tr>\n",
       "    <tr>\n",
       "      <th>25%</th>\n",
       "      <td>NaN</td>\n",
       "      <td>95.000000</td>\n",
       "      <td>NaN</td>\n",
       "      <td>NaN</td>\n",
       "      <td>10.0</td>\n",
       "      <td>NaN</td>\n",
       "      <td>NaN</td>\n",
       "      <td>6.000000</td>\n",
       "      <td>2.000000</td>\n",
       "      <td>10.000000</td>\n",
       "      <td>...</td>\n",
       "      <td>NaN</td>\n",
       "      <td>NaN</td>\n",
       "      <td>NaN</td>\n",
       "      <td>NaN</td>\n",
       "      <td>54.000000</td>\n",
       "      <td>NaN</td>\n",
       "      <td>2012.000000</td>\n",
       "      <td>90.760000</td>\n",
       "      <td>0.191500</td>\n",
       "      <td>NaN</td>\n",
       "    </tr>\n",
       "    <tr>\n",
       "      <th>50%</th>\n",
       "      <td>NaN</td>\n",
       "      <td>135.000000</td>\n",
       "      <td>NaN</td>\n",
       "      <td>NaN</td>\n",
       "      <td>10.0</td>\n",
       "      <td>NaN</td>\n",
       "      <td>NaN</td>\n",
       "      <td>9.000000</td>\n",
       "      <td>3.390000</td>\n",
       "      <td>40.000000</td>\n",
       "      <td>...</td>\n",
       "      <td>NaN</td>\n",
       "      <td>NaN</td>\n",
       "      <td>NaN</td>\n",
       "      <td>NaN</td>\n",
       "      <td>70.000000</td>\n",
       "      <td>NaN</td>\n",
       "      <td>2017.000000</td>\n",
       "      <td>90.760000</td>\n",
       "      <td>0.198500</td>\n",
       "      <td>NaN</td>\n",
       "    </tr>\n",
       "    <tr>\n",
       "      <th>75%</th>\n",
       "      <td>NaN</td>\n",
       "      <td>190.000000</td>\n",
       "      <td>NaN</td>\n",
       "      <td>NaN</td>\n",
       "      <td>10.0</td>\n",
       "      <td>NaN</td>\n",
       "      <td>NaN</td>\n",
       "      <td>13.000000</td>\n",
       "      <td>4.570000</td>\n",
       "      <td>40.000000</td>\n",
       "      <td>...</td>\n",
       "      <td>NaN</td>\n",
       "      <td>NaN</td>\n",
       "      <td>NaN</td>\n",
       "      <td>NaN</td>\n",
       "      <td>90.000000</td>\n",
       "      <td>NaN</td>\n",
       "      <td>2019.000000</td>\n",
       "      <td>90.760000</td>\n",
       "      <td>0.205500</td>\n",
       "      <td>NaN</td>\n",
       "    </tr>\n",
       "    <tr>\n",
       "      <th>max</th>\n",
       "      <td>NaN</td>\n",
       "      <td>146118.000000</td>\n",
       "      <td>NaN</td>\n",
       "      <td>NaN</td>\n",
       "      <td>10.0</td>\n",
       "      <td>NaN</td>\n",
       "      <td>NaN</td>\n",
       "      <td>121.000000</td>\n",
       "      <td>14.920000</td>\n",
       "      <td>100.000000</td>\n",
       "      <td>...</td>\n",
       "      <td>NaN</td>\n",
       "      <td>NaN</td>\n",
       "      <td>NaN</td>\n",
       "      <td>NaN</td>\n",
       "      <td>12613.000000</td>\n",
       "      <td>NaN</td>\n",
       "      <td>2919.000000</td>\n",
       "      <td>90.760000</td>\n",
       "      <td>0.227600</td>\n",
       "      <td>NaN</td>\n",
       "    </tr>\n",
       "  </tbody>\n",
       "</table>\n",
       "<p>11 rows × 49 columns</p>\n",
       "</div>"
      ],
      "text/plain": [
       "                     regio1  serviceCharge      heatingType telekomTvOffer  \\\n",
       "count                268850  261941.000000           223994         236231   \n",
       "unique                   16            NaN               13              3   \n",
       "top     Nordrhein_Westfalen            NaN  central_heating  ONE_YEAR_FREE   \n",
       "freq                  62863            NaN           128977         227632   \n",
       "mean                    NaN     151.206113              NaN            NaN   \n",
       "std                     NaN     308.295790              NaN            NaN   \n",
       "min                     NaN       0.000000              NaN            NaN   \n",
       "25%                     NaN      95.000000              NaN            NaN   \n",
       "50%                     NaN     135.000000              NaN            NaN   \n",
       "75%                     NaN     190.000000              NaN            NaN   \n",
       "max                     NaN  146118.000000              NaN            NaN   \n",
       "\n",
       "        telekomHybridUploadSpeed newlyConst balcony   picturecount  \\\n",
       "count                    45020.0     268850  268850  268850.000000   \n",
       "unique                       NaN          2       2            NaN   \n",
       "top                          NaN      False    True            NaN   \n",
       "freq                         NaN     247679  165734            NaN   \n",
       "mean                        10.0        NaN     NaN       9.791958   \n",
       "std                          0.0        NaN     NaN       6.408399   \n",
       "min                         10.0        NaN     NaN       0.000000   \n",
       "25%                         10.0        NaN     NaN       6.000000   \n",
       "50%                         10.0        NaN     NaN       9.000000   \n",
       "75%                         10.0        NaN     NaN      13.000000   \n",
       "max                         10.0        NaN     NaN     121.000000   \n",
       "\n",
       "           pricetrend  telekomUploadSpeed  ...   regio2      regio3  \\\n",
       "count   267018.000000       235492.000000  ...   268850      268850   \n",
       "unique            NaN                 NaN  ...      419        8684   \n",
       "top               NaN                 NaN  ...  Leipzig  Innenstadt   \n",
       "freq              NaN                 NaN  ...    13723        4751   \n",
       "mean         3.389001           28.804928  ...      NaN         NaN   \n",
       "std          1.964874           16.337151  ...      NaN         NaN   \n",
       "min        -12.330000            1.000000  ...      NaN         NaN   \n",
       "25%          2.000000           10.000000  ...      NaN         NaN   \n",
       "50%          3.390000           40.000000  ...      NaN         NaN   \n",
       "75%          4.570000           40.000000  ...      NaN         NaN   \n",
       "max         14.920000          100.000000  ...      NaN         NaN   \n",
       "\n",
       "                                              description  facilities  \\\n",
       "count                                              249103      215926   \n",
       "unique                                             212621      189526   \n",
       "top     + MEIN GUENTZ - Quartier der Generationen\\r\\n+...     Laminat   \n",
       "freq                                                  216         207   \n",
       "mean                                                  NaN         NaN   \n",
       "std                                                   NaN         NaN   \n",
       "min                                                   NaN         NaN   \n",
       "25%                                                   NaN         NaN   \n",
       "50%                                                   NaN         NaN   \n",
       "75%                                                   NaN         NaN   \n",
       "max                                                   NaN         NaN   \n",
       "\n",
       "        heatingCosts energyEfficiencyClass lastRefurbish electricityBasePrice  \\\n",
       "count   85518.000000                 77787  80711.000000         46846.000000   \n",
       "unique           NaN                    10           NaN                  NaN   \n",
       "top              NaN                     C           NaN                  NaN   \n",
       "freq             NaN                 14613           NaN                  NaN   \n",
       "mean       76.990866                   NaN   2013.904536            89.113612   \n",
       "std       147.716278                   NaN     10.963125             5.395805   \n",
       "min         0.000000                   NaN   1015.000000            71.430000   \n",
       "25%        54.000000                   NaN   2012.000000            90.760000   \n",
       "50%        70.000000                   NaN   2017.000000            90.760000   \n",
       "75%        90.000000                   NaN   2019.000000            90.760000   \n",
       "max     12613.000000                   NaN   2919.000000            90.760000   \n",
       "\n",
       "        electricityKwhPrice    date  \n",
       "count          46846.000000  268850  \n",
       "unique                  NaN       4  \n",
       "top                     NaN   Feb20  \n",
       "freq                    NaN   79276  \n",
       "mean               0.199769     NaN  \n",
       "std                0.009667     NaN  \n",
       "min                0.170500     NaN  \n",
       "25%                0.191500     NaN  \n",
       "50%                0.198500     NaN  \n",
       "75%                0.205500     NaN  \n",
       "max                0.227600     NaN  \n",
       "\n",
       "[11 rows x 49 columns]"
      ]
     },
     "execution_count": 7,
     "metadata": {},
     "output_type": "execute_result"
    }
   ],
   "source": [
    "df.describe(include='all')"
   ]
  },
  {
   "cell_type": "code",
   "execution_count": 9,
   "id": "d4c495a1",
   "metadata": {},
   "outputs": [
    {
     "name": "stdout",
     "output_type": "stream",
     "text": [
      "<class 'pandas.core.frame.DataFrame'>\n",
      "RangeIndex: 268850 entries, 0 to 268849\n",
      "Data columns (total 49 columns):\n",
      " #   Column                    Non-Null Count   Dtype  \n",
      "---  ------                    --------------   -----  \n",
      " 0   regio1                    268850 non-null  object \n",
      " 1   serviceCharge             261941 non-null  float64\n",
      " 2   heatingType               223994 non-null  object \n",
      " 3   telekomTvOffer            236231 non-null  object \n",
      " 4   telekomHybridUploadSpeed  45020 non-null   float64\n",
      " 5   newlyConst                268850 non-null  bool   \n",
      " 6   balcony                   268850 non-null  bool   \n",
      " 7   picturecount              268850 non-null  int64  \n",
      " 8   pricetrend                267018 non-null  float64\n",
      " 9   telekomUploadSpeed        235492 non-null  float64\n",
      " 10  totalRent                 228333 non-null  float64\n",
      " 11  yearConstructed           211805 non-null  float64\n",
      " 12  scoutId                   268850 non-null  int64  \n",
      " 13  noParkSpaces              93052 non-null   float64\n",
      " 14  firingTypes               211886 non-null  object \n",
      " 15  hasKitchen                268850 non-null  bool   \n",
      " 16  geo_bln                   268850 non-null  object \n",
      " 17  cellar                    268850 non-null  bool   \n",
      " 18  yearConstructedRange      211805 non-null  float64\n",
      " 19  baseRent                  268850 non-null  float64\n",
      " 20  houseNumber               197832 non-null  object \n",
      " 21  livingSpace               268850 non-null  float64\n",
      " 22  geo_krs                   268850 non-null  object \n",
      " 23  condition                 200361 non-null  object \n",
      " 24  interiorQual              156185 non-null  object \n",
      " 25  petsAllowed               154277 non-null  object \n",
      " 26  street                    268850 non-null  object \n",
      " 27  streetPlain               197837 non-null  object \n",
      " 28  lift                      268850 non-null  bool   \n",
      " 29  baseRentRange             268850 non-null  int64  \n",
      " 30  typeOfFlat                232236 non-null  object \n",
      " 31  geo_plz                   268850 non-null  int64  \n",
      " 32  noRooms                   268850 non-null  float64\n",
      " 33  thermalChar               162344 non-null  float64\n",
      " 34  floor                     217541 non-null  float64\n",
      " 35  numberOfFloors            171118 non-null  float64\n",
      " 36  noRoomsRange              268850 non-null  int64  \n",
      " 37  garden                    268850 non-null  bool   \n",
      " 38  livingSpaceRange          268850 non-null  int64  \n",
      " 39  regio2                    268850 non-null  object \n",
      " 40  regio3                    268850 non-null  object \n",
      " 41  description               249103 non-null  object \n",
      " 42  facilities                215926 non-null  object \n",
      " 43  heatingCosts              85518 non-null   float64\n",
      " 44  energyEfficiencyClass     77787 non-null   object \n",
      " 45  lastRefurbish             80711 non-null   float64\n",
      " 46  electricityBasePrice      46846 non-null   float64\n",
      " 47  electricityKwhPrice       46846 non-null   float64\n",
      " 48  date                      268850 non-null  object \n",
      "dtypes: bool(6), float64(18), int64(6), object(19)\n",
      "memory usage: 89.7+ MB\n"
     ]
    }
   ],
   "source": [
    "df.info()"
   ]
  },
  {
   "cell_type": "code",
   "execution_count": 15,
   "id": "6da0789e",
   "metadata": {},
   "outputs": [
    {
     "data": {
      "text/html": [
       "<div>\n",
       "<style scoped>\n",
       "    .dataframe tbody tr th:only-of-type {\n",
       "        vertical-align: middle;\n",
       "    }\n",
       "\n",
       "    .dataframe tbody tr th {\n",
       "        vertical-align: top;\n",
       "    }\n",
       "\n",
       "    .dataframe thead th {\n",
       "        text-align: right;\n",
       "    }\n",
       "</style>\n",
       "<table border=\"1\" class=\"dataframe\">\n",
       "  <thead>\n",
       "    <tr style=\"text-align: right;\">\n",
       "      <th></th>\n",
       "      <th>regio1</th>\n",
       "      <th>serviceCharge</th>\n",
       "      <th>heatingType</th>\n",
       "      <th>telekomTvOffer</th>\n",
       "      <th>telekomHybridUploadSpeed</th>\n",
       "      <th>newlyConst</th>\n",
       "      <th>balcony</th>\n",
       "      <th>picturecount</th>\n",
       "      <th>pricetrend</th>\n",
       "      <th>telekomUploadSpeed</th>\n",
       "      <th>...</th>\n",
       "      <th>regio2</th>\n",
       "      <th>regio3</th>\n",
       "      <th>description</th>\n",
       "      <th>facilities</th>\n",
       "      <th>heatingCosts</th>\n",
       "      <th>energyEfficiencyClass</th>\n",
       "      <th>lastRefurbish</th>\n",
       "      <th>electricityBasePrice</th>\n",
       "      <th>electricityKwhPrice</th>\n",
       "      <th>date</th>\n",
       "    </tr>\n",
       "  </thead>\n",
       "  <tbody>\n",
       "    <tr>\n",
       "      <th>0</th>\n",
       "      <td>Nordrhein_Westfalen</td>\n",
       "      <td>245.00</td>\n",
       "      <td>central_heating</td>\n",
       "      <td>ONE_YEAR_FREE</td>\n",
       "      <td>NaN</td>\n",
       "      <td>False</td>\n",
       "      <td>False</td>\n",
       "      <td>6</td>\n",
       "      <td>4.62</td>\n",
       "      <td>10.0</td>\n",
       "      <td>...</td>\n",
       "      <td>Dortmund</td>\n",
       "      <td>Schüren</td>\n",
       "      <td>Die ebenerdig zu erreichende Erdgeschosswohnun...</td>\n",
       "      <td>Die Wohnung ist mit Laminat ausgelegt. Das Bad...</td>\n",
       "      <td>NaN</td>\n",
       "      <td>NaN</td>\n",
       "      <td>NaN</td>\n",
       "      <td>NaN</td>\n",
       "      <td>NaN</td>\n",
       "      <td>May19</td>\n",
       "    </tr>\n",
       "    <tr>\n",
       "      <th>1</th>\n",
       "      <td>Rheinland_Pfalz</td>\n",
       "      <td>134.00</td>\n",
       "      <td>self_contained_central_heating</td>\n",
       "      <td>ONE_YEAR_FREE</td>\n",
       "      <td>NaN</td>\n",
       "      <td>False</td>\n",
       "      <td>True</td>\n",
       "      <td>8</td>\n",
       "      <td>3.47</td>\n",
       "      <td>10.0</td>\n",
       "      <td>...</td>\n",
       "      <td>Rhein_Pfalz_Kreis</td>\n",
       "      <td>Böhl_Iggelheim</td>\n",
       "      <td>Alles neu macht der Mai – so kann es auch für ...</td>\n",
       "      <td>NaN</td>\n",
       "      <td>NaN</td>\n",
       "      <td>NaN</td>\n",
       "      <td>2019.0</td>\n",
       "      <td>NaN</td>\n",
       "      <td>NaN</td>\n",
       "      <td>May19</td>\n",
       "    </tr>\n",
       "    <tr>\n",
       "      <th>2</th>\n",
       "      <td>Sachsen</td>\n",
       "      <td>255.00</td>\n",
       "      <td>floor_heating</td>\n",
       "      <td>ONE_YEAR_FREE</td>\n",
       "      <td>10.0</td>\n",
       "      <td>True</td>\n",
       "      <td>True</td>\n",
       "      <td>8</td>\n",
       "      <td>2.72</td>\n",
       "      <td>2.4</td>\n",
       "      <td>...</td>\n",
       "      <td>Dresden</td>\n",
       "      <td>Äußere_Neustadt_Antonstadt</td>\n",
       "      <td>Der Neubau entsteht im Herzen der Dresdner Neu...</td>\n",
       "      <td>* 9 m² Balkon\\n* Bad mit bodengleicher Dusche,...</td>\n",
       "      <td>NaN</td>\n",
       "      <td>NaN</td>\n",
       "      <td>NaN</td>\n",
       "      <td>NaN</td>\n",
       "      <td>NaN</td>\n",
       "      <td>Oct19</td>\n",
       "    </tr>\n",
       "    <tr>\n",
       "      <th>3</th>\n",
       "      <td>Sachsen</td>\n",
       "      <td>58.15</td>\n",
       "      <td>district_heating</td>\n",
       "      <td>ONE_YEAR_FREE</td>\n",
       "      <td>NaN</td>\n",
       "      <td>False</td>\n",
       "      <td>True</td>\n",
       "      <td>9</td>\n",
       "      <td>1.53</td>\n",
       "      <td>40.0</td>\n",
       "      <td>...</td>\n",
       "      <td>Mittelsachsen_Kreis</td>\n",
       "      <td>Freiberg</td>\n",
       "      <td>Abseits von Lärm und Abgasen in Ihre neue Wohn...</td>\n",
       "      <td>NaN</td>\n",
       "      <td>87.23</td>\n",
       "      <td>NaN</td>\n",
       "      <td>NaN</td>\n",
       "      <td>NaN</td>\n",
       "      <td>NaN</td>\n",
       "      <td>May19</td>\n",
       "    </tr>\n",
       "    <tr>\n",
       "      <th>4</th>\n",
       "      <td>Bremen</td>\n",
       "      <td>138.00</td>\n",
       "      <td>self_contained_central_heating</td>\n",
       "      <td>NaN</td>\n",
       "      <td>NaN</td>\n",
       "      <td>False</td>\n",
       "      <td>True</td>\n",
       "      <td>19</td>\n",
       "      <td>2.46</td>\n",
       "      <td>NaN</td>\n",
       "      <td>...</td>\n",
       "      <td>Bremen</td>\n",
       "      <td>Neu_Schwachhausen</td>\n",
       "      <td>Es handelt sich hier um ein saniertes Mehrfami...</td>\n",
       "      <td>Diese Wohnung wurde neu saniert und ist wie fo...</td>\n",
       "      <td>NaN</td>\n",
       "      <td>NaN</td>\n",
       "      <td>NaN</td>\n",
       "      <td>NaN</td>\n",
       "      <td>NaN</td>\n",
       "      <td>Feb20</td>\n",
       "    </tr>\n",
       "  </tbody>\n",
       "</table>\n",
       "<p>5 rows × 49 columns</p>\n",
       "</div>"
      ],
      "text/plain": [
       "                regio1  serviceCharge                     heatingType  \\\n",
       "0  Nordrhein_Westfalen         245.00                 central_heating   \n",
       "1      Rheinland_Pfalz         134.00  self_contained_central_heating   \n",
       "2              Sachsen         255.00                   floor_heating   \n",
       "3              Sachsen          58.15                district_heating   \n",
       "4               Bremen         138.00  self_contained_central_heating   \n",
       "\n",
       "  telekomTvOffer  telekomHybridUploadSpeed  newlyConst  balcony  picturecount  \\\n",
       "0  ONE_YEAR_FREE                       NaN       False    False             6   \n",
       "1  ONE_YEAR_FREE                       NaN       False     True             8   \n",
       "2  ONE_YEAR_FREE                      10.0        True     True             8   \n",
       "3  ONE_YEAR_FREE                       NaN       False     True             9   \n",
       "4            NaN                       NaN       False     True            19   \n",
       "\n",
       "   pricetrend  telekomUploadSpeed  ...               regio2  \\\n",
       "0        4.62                10.0  ...             Dortmund   \n",
       "1        3.47                10.0  ...    Rhein_Pfalz_Kreis   \n",
       "2        2.72                 2.4  ...              Dresden   \n",
       "3        1.53                40.0  ...  Mittelsachsen_Kreis   \n",
       "4        2.46                 NaN  ...               Bremen   \n",
       "\n",
       "                       regio3  \\\n",
       "0                     Schüren   \n",
       "1              Böhl_Iggelheim   \n",
       "2  Äußere_Neustadt_Antonstadt   \n",
       "3                    Freiberg   \n",
       "4           Neu_Schwachhausen   \n",
       "\n",
       "                                         description  \\\n",
       "0  Die ebenerdig zu erreichende Erdgeschosswohnun...   \n",
       "1  Alles neu macht der Mai – so kann es auch für ...   \n",
       "2  Der Neubau entsteht im Herzen der Dresdner Neu...   \n",
       "3  Abseits von Lärm und Abgasen in Ihre neue Wohn...   \n",
       "4  Es handelt sich hier um ein saniertes Mehrfami...   \n",
       "\n",
       "                                          facilities heatingCosts  \\\n",
       "0  Die Wohnung ist mit Laminat ausgelegt. Das Bad...          NaN   \n",
       "1                                                NaN          NaN   \n",
       "2  * 9 m² Balkon\\n* Bad mit bodengleicher Dusche,...          NaN   \n",
       "3                                                NaN        87.23   \n",
       "4  Diese Wohnung wurde neu saniert und ist wie fo...          NaN   \n",
       "\n",
       "   energyEfficiencyClass lastRefurbish  electricityBasePrice  \\\n",
       "0                    NaN           NaN                   NaN   \n",
       "1                    NaN        2019.0                   NaN   \n",
       "2                    NaN           NaN                   NaN   \n",
       "3                    NaN           NaN                   NaN   \n",
       "4                    NaN           NaN                   NaN   \n",
       "\n",
       "   electricityKwhPrice   date  \n",
       "0                  NaN  May19  \n",
       "1                  NaN  May19  \n",
       "2                  NaN  Oct19  \n",
       "3                  NaN  May19  \n",
       "4                  NaN  Feb20  \n",
       "\n",
       "[5 rows x 49 columns]"
      ]
     },
     "execution_count": 15,
     "metadata": {},
     "output_type": "execute_result"
    }
   ],
   "source": [
    "df.head()"
   ]
  },
  {
   "cell_type": "code",
   "execution_count": 35,
   "id": "0b276028",
   "metadata": {},
   "outputs": [
    {
     "data": {
      "text/plain": [
       "regio1                           0\n",
       "serviceCharge                 6909\n",
       "heatingType                  44856\n",
       "telekomTvOffer               32619\n",
       "telekomHybridUploadSpeed    223830\n",
       "newlyConst                       0\n",
       "balcony                          0\n",
       "picturecount                     0\n",
       "pricetrend                    1832\n",
       "telekomUploadSpeed           33358\n",
       "totalRent                    40517\n",
       "yearConstructed              57045\n",
       "scoutId                          0\n",
       "noParkSpaces                175798\n",
       "firingTypes                  56964\n",
       "hasKitchen                       0\n",
       "geo_bln                          0\n",
       "cellar                           0\n",
       "yearConstructedRange         57045\n",
       "baseRent                         0\n",
       "houseNumber                  71018\n",
       "livingSpace                      0\n",
       "geo_krs                          0\n",
       "condition                    68489\n",
       "interiorQual                112665\n",
       "petsAllowed                 114573\n",
       "street                           0\n",
       "streetPlain                  71013\n",
       "lift                             0\n",
       "baseRentRange                    0\n",
       "typeOfFlat                   36614\n",
       "geo_plz                          0\n",
       "noRooms                          0\n",
       "thermalChar                 106506\n",
       "floor                        51309\n",
       "numberOfFloors               97732\n",
       "noRoomsRange                     0\n",
       "garden                           0\n",
       "livingSpaceRange                 0\n",
       "regio2                           0\n",
       "regio3                           0\n",
       "description                  19747\n",
       "facilities                   52924\n",
       "heatingCosts                183332\n",
       "energyEfficiencyClass       191063\n",
       "lastRefurbish               188139\n",
       "electricityBasePrice        222004\n",
       "electricityKwhPrice         222004\n",
       "date                             0\n",
       "dtype: int64"
      ]
     },
     "execution_count": 35,
     "metadata": {},
     "output_type": "execute_result"
    }
   ],
   "source": [
    "df.isna().sum()"
   ]
  },
  {
   "cell_type": "code",
   "execution_count": 36,
   "id": "56112bd3",
   "metadata": {},
   "outputs": [
    {
     "data": {
      "text/plain": [
       "regio1                      False\n",
       "serviceCharge               False\n",
       "heatingType                 False\n",
       "telekomTvOffer              False\n",
       "telekomHybridUploadSpeed     True\n",
       "newlyConst                  False\n",
       "balcony                     False\n",
       "picturecount                False\n",
       "pricetrend                  False\n",
       "telekomUploadSpeed          False\n",
       "totalRent                   False\n",
       "yearConstructed             False\n",
       "scoutId                     False\n",
       "noParkSpaces                False\n",
       "firingTypes                 False\n",
       "hasKitchen                  False\n",
       "geo_bln                     False\n",
       "cellar                      False\n",
       "yearConstructedRange        False\n",
       "baseRent                    False\n",
       "houseNumber                 False\n",
       "livingSpace                 False\n",
       "geo_krs                     False\n",
       "condition                   False\n",
       "interiorQual                False\n",
       "petsAllowed                 False\n",
       "street                      False\n",
       "streetPlain                 False\n",
       "lift                        False\n",
       "baseRentRange               False\n",
       "typeOfFlat                  False\n",
       "geo_plz                     False\n",
       "noRooms                     False\n",
       "thermalChar                 False\n",
       "floor                       False\n",
       "numberOfFloors              False\n",
       "noRoomsRange                False\n",
       "garden                      False\n",
       "livingSpaceRange            False\n",
       "regio2                      False\n",
       "regio3                      False\n",
       "description                 False\n",
       "facilities                  False\n",
       "heatingCosts                False\n",
       "energyEfficiencyClass       False\n",
       "lastRefurbish               False\n",
       "electricityBasePrice         True\n",
       "electricityKwhPrice          True\n",
       "date                        False\n",
       "dtype: bool"
      ]
     },
     "execution_count": 36,
     "metadata": {},
     "output_type": "execute_result"
    }
   ],
   "source": [
    "df.isna().sum() > df.shape[0]*0.75\n",
    "# telekomHybridUploadSpeed, electricityBasePrice, electricityKwhPrice are useless"
   ]
  },
  {
   "cell_type": "code",
   "execution_count": 53,
   "id": "e9f9f533",
   "metadata": {},
   "outputs": [
    {
     "name": "stdout",
     "output_type": "stream",
     "text": [
      "0.7908573554026409\n",
      "0.7049544355588618\n"
     ]
    }
   ],
   "source": [
    "print(df['description'].unique().shape[0]/df.shape[0])\n",
    "print(df['facilities'].unique().shape[0]/df.shape[0])\n",
    "# ~80% of the descriptions and 70% of the facilities descriptions are unique -> not very useful"
   ]
  },
  {
   "cell_type": "code",
   "execution_count": 62,
   "id": "b4656d24",
   "metadata": {},
   "outputs": [
    {
     "data": {
      "text/plain": [
       "regio1\n",
       "Nordrhein_Westfalen       62863\n",
       "Sachsen                   58154\n",
       "Bayern                    21609\n",
       "Sachsen_Anhalt            20124\n",
       "Hessen                    17845\n",
       "Niedersachsen             16593\n",
       "Baden_Württemberg         16091\n",
       "Berlin                    10406\n",
       "Thüringen                  8388\n",
       "Rheinland_Pfalz            8368\n",
       "Brandenburg                6954\n",
       "Schleswig_Holstein         6668\n",
       "Mecklenburg_Vorpommern     6634\n",
       "Hamburg                    3759\n",
       "Bremen                     2965\n",
       "Saarland                   1429\n",
       "dtype: int64"
      ]
     },
     "execution_count": 62,
     "metadata": {},
     "output_type": "execute_result"
    }
   ],
   "source": [
    "df.value_counts('regio1') # == df.value_counts('geo_bln') --> drop geo_bln"
   ]
  },
  {
   "cell_type": "code",
   "execution_count": 96,
   "id": "8fb51f84",
   "metadata": {},
   "outputs": [
    {
     "data": {
      "text/plain": [
       "regio2\n",
       "Leipzig                         13723\n",
       "Chemnitz                        12575\n",
       "Berlin                          10405\n",
       "Dresden                          7522\n",
       "Magdeburg                        4860\n",
       "                                ...  \n",
       "Lichtenfels_Kreis                  31\n",
       "Freyung_Grafenau_Kreis             30\n",
       "Haßberge_Kreis                     24\n",
       "Neustadt_a.d._Waldnaab_Kreis       16\n",
       "Kronach_Kreis                      12\n",
       "Length: 419, dtype: int64"
      ]
     },
     "execution_count": 96,
     "metadata": {},
     "output_type": "execute_result"
    }
   ],
   "source": [
    "df.value_counts('regio2') # == df.value_counts('geo_krs') --> drop geo_krs"
   ]
  },
  {
   "cell_type": "code",
   "execution_count": 65,
   "id": "03043211",
   "metadata": {},
   "outputs": [
    {
     "data": {
      "text/plain": [
       "heatingType\n",
       "central_heating                   128977\n",
       "district_heating                   24808\n",
       "gas_heating                        19955\n",
       "self_contained_central_heating     19087\n",
       "floor_heating                      17697\n",
       "oil_heating                         5042\n",
       "heat_pump                           2737\n",
       "combined_heat_and_power_plant       1978\n",
       "night_storage_heater                1341\n",
       "wood_pellet_heating                  961\n",
       "electric_heating                     901\n",
       "stove_heating                        344\n",
       "solar_heating                        166\n",
       "dtype: int64"
      ]
     },
     "execution_count": 65,
     "metadata": {},
     "output_type": "execute_result"
    }
   ],
   "source": [
    "df.value_counts('heatingType')"
   ]
  },
  {
   "cell_type": "code",
   "execution_count": 66,
   "id": "d54f77f5",
   "metadata": {},
   "outputs": [
    {
     "data": {
      "text/plain": [
       "telekomTvOffer\n",
       "ONE_YEAR_FREE    227632\n",
       "NONE               4957\n",
       "ON_DEMAND          3642\n",
       "dtype: int64"
      ]
     },
     "execution_count": 66,
     "metadata": {},
     "output_type": "execute_result"
    }
   ],
   "source": [
    "df.value_counts('telekomTvOffer')"
   ]
  },
  {
   "cell_type": "code",
   "execution_count": 13,
   "id": "5010514e",
   "metadata": {},
   "outputs": [
    {
     "data": {
      "text/plain": [
       "telekomHybridUploadSpeed\n",
       "10.0    45020\n",
       "dtype: int64"
      ]
     },
     "execution_count": 13,
     "metadata": {},
     "output_type": "execute_result"
    }
   ],
   "source": [
    "df.value_counts(df['telekomHybridUploadSpeed']) # -> only value in dataset i.e. drop telekomHybridUploadSpeed "
   ]
  },
  {
   "cell_type": "code",
   "execution_count": 68,
   "id": "440fc6b9",
   "metadata": {},
   "outputs": [
    {
     "data": {
      "text/plain": [
       "picturecount\n",
       "8      21930\n",
       "7      21429\n",
       "9      21421\n",
       "10     19819\n",
       "6      18848\n",
       "       ...  \n",
       "100        1\n",
       "101        1\n",
       "107        1\n",
       "109        1\n",
       "112        1\n",
       "Length: 95, dtype: int64"
      ]
     },
     "execution_count": 68,
     "metadata": {},
     "output_type": "execute_result"
    }
   ],
   "source": [
    "df.value_counts(df['picturecount'])"
   ]
  },
  {
   "cell_type": "code",
   "execution_count": 69,
   "id": "e3957e83",
   "metadata": {},
   "outputs": [
    {
     "data": {
      "text/plain": [
       "pricetrend\n",
       " 0.00     11082\n",
       " 3.33      2211\n",
       " 3.23      2042\n",
       " 3.85      1884\n",
       " 3.57      1720\n",
       "          ...  \n",
       "-1.09         1\n",
       "-0.98         1\n",
       "-0.81         1\n",
       "-0.73         1\n",
       " 14.92        1\n",
       "Length: 1234, dtype: int64"
      ]
     },
     "execution_count": 69,
     "metadata": {},
     "output_type": "execute_result"
    }
   ],
   "source": [
    "df.value_counts(df['pricetrend'])"
   ]
  },
  {
   "cell_type": "code",
   "execution_count": 71,
   "id": "de8f1cb5",
   "metadata": {},
   "outputs": [
    {
     "data": {
      "text/plain": [
       "telekomUploadSpeed\n",
       "40.0     158296\n",
       "2.4       42858\n",
       "10.0      32889\n",
       "5.0        1036\n",
       "1.0         209\n",
       "100.0       141\n",
       "4.0          63\n",
       "dtype: int64"
      ]
     },
     "execution_count": 71,
     "metadata": {},
     "output_type": "execute_result"
    }
   ],
   "source": [
    "df.value_counts(df['telekomUploadSpeed'])"
   ]
  },
  {
   "cell_type": "code",
   "execution_count": 72,
   "id": "97ec7f87",
   "metadata": {},
   "outputs": [
    {
     "data": {
      "text/plain": [
       "totalRent\n",
       "500.00         1897\n",
       "450.00         1892\n",
       "600.00         1805\n",
       "550.00         1668\n",
       "400.00         1500\n",
       "               ... \n",
       "586.38            1\n",
       "586.36            1\n",
       "586.33            1\n",
       "586.32            1\n",
       "15751535.00       1\n",
       "Length: 28486, dtype: int64"
      ]
     },
     "execution_count": 72,
     "metadata": {},
     "output_type": "execute_result"
    }
   ],
   "source": [
    "df.value_counts(df['totalRent']) # our y value"
   ]
  },
  {
   "cell_type": "code",
   "execution_count": 91,
   "id": "1619392c",
   "metadata": {},
   "outputs": [
    {
     "name": "stdout",
     "output_type": "stream",
     "text": [
      "yearConstructed\n",
      "2019.0    10959\n",
      "1900.0    10356\n",
      "2018.0     8759\n",
      "1995.0     4387\n",
      "1996.0     4339\n",
      "          ...  \n",
      "1683.0        1\n",
      "1688.0        1\n",
      "1693.0        1\n",
      "1695.0        1\n",
      "2090.0        1\n",
      "Length: 465, dtype: int64\n"
     ]
    }
   ],
   "source": [
    "print(df.value_counts(df['yearConstructed'])) # get rid of values higher than 2022\n",
    "index_names = df[ df['yearConstructed'] > 2022 ].index\n",
    "df.drop(index_names, inplace = True)"
   ]
  },
  {
   "cell_type": "code",
   "execution_count": 105,
   "id": "b499e84a",
   "metadata": {},
   "outputs": [
    {
     "name": "stdout",
     "output_type": "stream",
     "text": [
      "noParkSpaces\n",
      "1.0       78813\n",
      "2.0        8955\n",
      "0.0        3855\n",
      "3.0         417\n",
      "4.0         137\n",
      "          ...  \n",
      "73.0          1\n",
      "64.0          1\n",
      "59.0          1\n",
      "58.0          1\n",
      "2241.0        1\n",
      "Length: 71, dtype: int64\n",
      "Number of entries with more than 50 parking spaces...  89\n"
     ]
    }
   ],
   "source": [
    "print(df.value_counts(df['noParkSpaces']))\n",
    "df1 = df[df['noParkSpaces'] > 50]\n",
    "print('Number of entries with more than 50 parking spaces... ',df1.shape[0])\n",
    "index_names = df[ df['noParkSpaces'] > 50 ].index\n",
    "df.drop(index_names, inplace = True)"
   ]
  },
  {
   "cell_type": "code",
   "execution_count": 108,
   "id": "2e8efac5",
   "metadata": {},
   "outputs": [
    {
     "data": {
      "text/plain": [
       "firingTypes\n",
       "gas                                             110864\n",
       "district_heating                                 49368\n",
       "oil                                              18136\n",
       "natural_gas_light                                10077\n",
       "electricity                                       4838\n",
       "                                                 ...  \n",
       "pellet_heating:natural_gas_light                     1\n",
       "gas:liquid_gas                                       1\n",
       "pellet_heating:wood:wood_chips                       1\n",
       "gas:electricity:environmental_thermal_energy         1\n",
       "district_heating:natural_gas_heavy                   1\n",
       "Length: 132, dtype: int64"
      ]
     },
     "execution_count": 108,
     "metadata": {},
     "output_type": "execute_result"
    }
   ],
   "source": [
    "df.value_counts(df['firingTypes'])"
   ]
  },
  {
   "cell_type": "code",
   "execution_count": 130,
   "id": "e08ca40a",
   "metadata": {},
   "outputs": [
    {
     "name": "stdout",
     "output_type": "stream",
     "text": [
      "yearConstructed\n",
      "2019.0    10953\n",
      "1900.0    10356\n",
      "2018.0     8757\n",
      "1995.0     4378\n",
      "1996.0     4327\n",
      "          ...  \n",
      "1633.0        1\n",
      "1634.0        1\n",
      "1706.0        1\n",
      "1645.0        1\n",
      "1611.0        1\n",
      "Length: 413, dtype: int64\n"
     ]
    }
   ],
   "source": [
    "print(df.value_counts(df['yearConstructed'])) # apparently 87 values were constructed in 1111 :D\n",
    "index_names = df[ df['yearConstructed'] < 1500 ].index\n",
    "df.drop(index_names, inplace = True)"
   ]
  },
  {
   "cell_type": "code",
   "execution_count": 138,
   "id": "4ab50f27",
   "metadata": {},
   "outputs": [],
   "source": [
    "print(df.value_counts(df['baseRent']))\n",
    "# if the base rent is higher than 16.000 its a outlier\n",
    "index_names = df[ df['baseRent'] > 16000 ].index\n",
    "df.drop(index_names, inplace = True)"
   ]
  },
  {
   "cell_type": "code",
   "execution_count": 139,
   "id": "e4a736d8",
   "metadata": {},
   "outputs": [
    {
     "data": {
      "text/plain": [
       "houseNumber\n",
       "1        7168\n",
       "2        6785\n",
       "4        5820\n",
       "3        5702\n",
       "5        5510\n",
       "         ... \n",
       "29B/C       1\n",
       "29D         1\n",
       "29g         1\n",
       "2H          1\n",
       "yy          1\n",
       "Length: 5502, dtype: int64"
      ]
     },
     "execution_count": 139,
     "metadata": {},
     "output_type": "execute_result"
    }
   ],
   "source": [
    "df.value_counts(df['houseNumber']) # we don't need the house number to predict prices"
   ]
  },
  {
   "cell_type": "code",
   "execution_count": 146,
   "id": "47bf03a0",
   "metadata": {},
   "outputs": [
    {
     "name": "stdout",
     "output_type": "stream",
     "text": [
      "livingSpace\n",
      "60.00        5188\n",
      "70.00        4152\n",
      "80.00        4030\n",
      "65.00        3807\n",
      "75.00        3690\n",
      "             ... \n",
      "135.84          1\n",
      "26.49           1\n",
      "104.28          1\n",
      "26.44           1\n",
      "111111.00       1\n",
      "Length: 12999, dtype: int64\n"
     ]
    }
   ],
   "source": [
    "print(df.value_counts(df['livingSpace'])) # in sqm\n",
    "index_names = df[ df['livingSpace'] > 3000 ].index # 7 entries \n",
    "df.drop(index_names, inplace = True)"
   ]
  },
  {
   "cell_type": "code",
   "execution_count": 147,
   "id": "1bf70622",
   "metadata": {},
   "outputs": [
    {
     "data": {
      "text/plain": [
       "condition\n",
       "well_kept                             66557\n",
       "refurbished                           26947\n",
       "fully_renovated                       26344\n",
       "first_time_use                        21944\n",
       "mint_condition                        21903\n",
       "modernized                            17213\n",
       "first_time_use_after_refurbishment    15683\n",
       "negotiable                             2238\n",
       "need_of_renovation                     1371\n",
       "ripe_for_demolition                       4\n",
       "dtype: int64"
      ]
     },
     "execution_count": 147,
     "metadata": {},
     "output_type": "execute_result"
    }
   ],
   "source": [
    "df.value_counts(df['condition'])"
   ]
  },
  {
   "cell_type": "code",
   "execution_count": 148,
   "id": "fbfcafd9",
   "metadata": {},
   "outputs": [
    {
     "data": {
      "text/plain": [
       "interiorQual\n",
       "normal           81781\n",
       "sophisticated    64705\n",
       "luxury            7642\n",
       "simple            1948\n",
       "dtype: int64"
      ]
     },
     "execution_count": 148,
     "metadata": {},
     "output_type": "execute_result"
    }
   ],
   "source": [
    "df.value_counts(df['interiorQual'])"
   ]
  },
  {
   "cell_type": "code",
   "execution_count": 149,
   "id": "68339d89",
   "metadata": {},
   "outputs": [
    {
     "data": {
      "text/plain": [
       "petsAllowed\n",
       "negotiable    91911\n",
       "no            51953\n",
       "yes           10312\n",
       "dtype: int64"
      ]
     },
     "execution_count": 149,
     "metadata": {},
     "output_type": "execute_result"
    }
   ],
   "source": [
    "df.value_counts(df['petsAllowed'])"
   ]
  },
  {
   "cell_type": "code",
   "execution_count": 150,
   "id": "61c7d393",
   "metadata": {},
   "outputs": [
    {
     "data": {
      "text/plain": [
       "baseRentRange\n",
       "2    54486\n",
       "1    48183\n",
       "5    37977\n",
       "3    37104\n",
       "7    27464\n",
       "4    25785\n",
       "6    24192\n",
       "8     8242\n",
       "9     5157\n",
       "dtype: int64"
      ]
     },
     "execution_count": 150,
     "metadata": {},
     "output_type": "execute_result"
    }
   ],
   "source": [
    "# keep streetPlain and drop street \n",
    "\n",
    "df.value_counts(df['baseRentRange'])"
   ]
  },
  {
   "cell_type": "code",
   "execution_count": 151,
   "id": "02dc7724",
   "metadata": {},
   "outputs": [
    {
     "data": {
      "text/plain": [
       "typeOfFlat\n",
       "apartment              131382\n",
       "roof_storey             34760\n",
       "ground_floor            31506\n",
       "other                    9510\n",
       "maisonette               9314\n",
       "raised_ground_floor      5625\n",
       "penthouse                3563\n",
       "terraced_flat            3384\n",
       "half_basement            2013\n",
       "loft                      954\n",
       "dtype: int64"
      ]
     },
     "execution_count": 151,
     "metadata": {},
     "output_type": "execute_result"
    }
   ],
   "source": [
    "df.value_counts(df['typeOfFlat'])"
   ]
  },
  {
   "cell_type": "code",
   "execution_count": 153,
   "id": "66e87816",
   "metadata": {},
   "outputs": [
    {
     "data": {
      "text/plain": [
       "geo_plz\n",
       "9130     2008\n",
       "9126     1993\n",
       "9131     1649\n",
       "9112     1626\n",
       "9113     1416\n",
       "         ... \n",
       "86707       1\n",
       "54200       1\n",
       "54309       1\n",
       "54313       1\n",
       "54492       1\n",
       "Length: 7633, dtype: int64"
      ]
     },
     "execution_count": 153,
     "metadata": {},
     "output_type": "execute_result"
    }
   ],
   "source": [
    "df.value_counts(df['geo_plz'])"
   ]
  },
  {
   "cell_type": "code",
   "execution_count": 158,
   "id": "7e36175b",
   "metadata": {},
   "outputs": [
    {
     "name": "stdout",
     "output_type": "stream",
     "text": [
      "noRooms\n",
      "3.00      92021\n",
      "2.00      88958\n",
      "4.00      27756\n",
      "1.00      27750\n",
      "2.50       9571\n",
      "          ...  \n",
      "2.65          1\n",
      "2.70          1\n",
      "2.90          1\n",
      "3.40          1\n",
      "999.99        1\n",
      "Length: 63, dtype: int64\n"
     ]
    }
   ],
   "source": [
    "print(df.value_counts(df['noRooms']))\n",
    "index_names = df[ df['noRooms'] > 50 ].index # 14 entries\n",
    "df.drop(index_names, inplace = True)"
   ]
  },
  {
   "cell_type": "code",
   "execution_count": 159,
   "id": "d1c43621",
   "metadata": {},
   "outputs": [
    {
     "data": {
      "text/plain": [
       "thermalChar\n",
       "105.00     932\n",
       "100.00     913\n",
       "114.00     876\n",
       "80.00      871\n",
       "87.00      863\n",
       "          ... \n",
       "120.79       1\n",
       "120.63       1\n",
       "120.59       1\n",
       "120.54       1\n",
       "1996.00      1\n",
       "Length: 7843, dtype: int64"
      ]
     },
     "execution_count": 159,
     "metadata": {},
     "output_type": "execute_result"
    }
   ],
   "source": [
    "df.value_counts(df['energyEfficiencyClass']) # drop thermalChar since this is more insightful"
   ]
  },
  {
   "cell_type": "code",
   "execution_count": 171,
   "id": "03123406",
   "metadata": {},
   "outputs": [
    {
     "name": "stdout",
     "output_type": "stream",
     "text": [
      "floor\n",
      " 1.0     64077\n",
      " 2.0     56871\n",
      " 3.0     37843\n",
      " 0.0     24594\n",
      " 4.0     19941\n",
      " 5.0      7982\n",
      " 6.0      2489\n",
      " 7.0      1029\n",
      " 8.0       577\n",
      " 9.0       427\n",
      " 10.0      363\n",
      "-1.0       314\n",
      " 11.0      236\n",
      " 12.0      143\n",
      " 13.0      133\n",
      " 14.0      110\n",
      " 15.0       61\n",
      " 16.0       34\n",
      " 17.0       27\n",
      " 19.0       15\n",
      " 21.0       12\n",
      " 18.0       11\n",
      " 20.0       10\n",
      " 22.0        4\n",
      " 24.0        3\n",
      " 23.0        2\n",
      " 26.0        2\n",
      " 29.0        2\n",
      " 36.0        1\n",
      " 41.0        1\n",
      " 37.0        1\n",
      " 25.0        1\n",
      " 32.0        1\n",
      " 31.0        1\n",
      " 45.0        1\n",
      "dtype: int64\n"
     ]
    }
   ],
   "source": [
    "print(df.value_counts(df['floor']))\n",
    "index_names = df[ df['floor'] > 63 ].index # germanys highest building has 63 floors\n",
    "df.drop(index_names, inplace = True)"
   ]
  },
  {
   "cell_type": "code",
   "execution_count": 174,
   "id": "c1bf0daa",
   "metadata": {},
   "outputs": [
    {
     "name": "stdout",
     "output_type": "stream",
     "text": [
      "numberOfFloors\n",
      "3.0     50779\n",
      "4.0     39823\n",
      "2.0     37338\n",
      "5.0     19816\n",
      "1.0      8458\n",
      "6.0      6261\n",
      "7.0      2550\n",
      "0.0      1371\n",
      "8.0      1133\n",
      "11.0     1004\n",
      "10.0      572\n",
      "9.0       513\n",
      "14.0      239\n",
      "12.0      189\n",
      "16.0      170\n",
      "13.0      169\n",
      "15.0      122\n",
      "17.0      102\n",
      "18.0       73\n",
      "20.0       65\n",
      "19.0       55\n",
      "23.0       29\n",
      "21.0       28\n",
      "22.0       25\n",
      "40.0       12\n",
      "26.0        7\n",
      "27.0        6\n",
      "31.0        5\n",
      "24.0        5\n",
      "33.0        4\n",
      "25.0        3\n",
      "45.0        3\n",
      "30.0        3\n",
      "34.0        3\n",
      "36.0        3\n",
      "42.0        2\n",
      "43.0        2\n",
      "32.0        2\n",
      "28.0        2\n",
      "41.0        1\n",
      "29.0        1\n",
      "54.0        1\n",
      "dtype: int64\n"
     ]
    }
   ],
   "source": [
    "print(df.value_counts('numberOfFloors'))\n",
    "index_names = df[ df['numberOfFloors'] > 63 ].index # germanys highest building has 63 floors\n",
    "df.drop(index_names, inplace = True)"
   ]
  },
  {
   "cell_type": "code",
   "execution_count": 175,
   "id": "66cd2321",
   "metadata": {},
   "outputs": [
    {
     "data": {
      "text/plain": [
       "noRoomsRange\n",
       "3    100910\n",
       "2     98607\n",
       "1     31150\n",
       "4     29828\n",
       "5      8034\n",
       "dtype: int64"
      ]
     },
     "execution_count": 175,
     "metadata": {},
     "output_type": "execute_result"
    }
   ],
   "source": [
    "df.value_counts(df['noRoomsRange'])"
   ]
  },
  {
   "cell_type": "code",
   "execution_count": 176,
   "id": "5831521a",
   "metadata": {},
   "outputs": [
    {
     "data": {
      "text/plain": [
       "livingSpaceRange\n",
       "3    82367\n",
       "2    76294\n",
       "4    42754\n",
       "1    26999\n",
       "5    20511\n",
       "6    12857\n",
       "7     6747\n",
       "dtype: int64"
      ]
     },
     "execution_count": 176,
     "metadata": {},
     "output_type": "execute_result"
    }
   ],
   "source": [
    "df.value_counts(df['livingSpaceRange'])"
   ]
  },
  {
   "cell_type": "code",
   "execution_count": 181,
   "id": "24ee02e5",
   "metadata": {},
   "outputs": [
    {
     "name": "stdout",
     "output_type": "stream",
     "text": [
      "heatingCosts\n",
      "60.00       5302\n",
      "70.00       4808\n",
      "80.00       4756\n",
      "50.00       4277\n",
      "100.00      3965\n",
      "            ... \n",
      "70.91          1\n",
      "70.92          1\n",
      "70.95          1\n",
      "70.99          1\n",
      "12613.00       1\n",
      "Length: 5661, dtype: int64\n"
     ]
    }
   ],
   "source": [
    "print(df.value_counts(df['heatingCosts']))\n",
    "index_names = df[ df['heatingCosts'] > 9000 ].index # 11 entries\n",
    "df.drop(index_names, inplace = True)"
   ]
  },
  {
   "cell_type": "code",
   "execution_count": 192,
   "id": "e024ecf6",
   "metadata": {},
   "outputs": [
    {
     "name": "stdout",
     "output_type": "stream",
     "text": [
      "lastRefurbish\n",
      "2019.0    20180\n",
      "2018.0    13191\n",
      "2017.0     7094\n",
      "2016.0     5669\n",
      "2015.0     4632\n",
      "          ...  \n",
      "1957.0        1\n",
      "1964.0        1\n",
      "1965.0        1\n",
      "1973.0        1\n",
      "1015.0        1\n",
      "Length: 88, dtype: int64\n"
     ]
    }
   ],
   "source": [
    "print(df.value_counts(df['lastRefurbish']))\n",
    "index_names = df[ df['lastRefurbish'] < 1100].index # 1 value \n",
    "df.drop(index_names, inplace = True)"
   ]
  },
  {
   "cell_type": "code",
   "execution_count": 193,
   "id": "1e98f858",
   "metadata": {},
   "outputs": [
    {
     "data": {
      "text/plain": [
       "electricityBasePrice\n",
       "90.76    42813\n",
       "71.43     3987\n",
       "dtype: int64"
      ]
     },
     "execution_count": 193,
     "metadata": {},
     "output_type": "execute_result"
    }
   ],
   "source": [
    "df.value_counts(df['electricityBasePrice']) # useless drop electricityBasePrice"
   ]
  },
  {
   "cell_type": "code",
   "execution_count": 195,
   "id": "a87a242c",
   "metadata": {},
   "outputs": [
    {
     "data": {
      "text/plain": [
       "electricityKwhPrice\n",
       "0.1985    14620\n",
       "0.2055    13061\n",
       "0.1915    10109\n",
       "0.1845     2951\n",
       "0.2276     1411\n",
       "0.2125      726\n",
       "0.2074      704\n",
       "0.1775      675\n",
       "0.2205      661\n",
       "0.2137      450\n",
       "0.2132      404\n",
       "0.2144      357\n",
       "0.1705      239\n",
       "0.2195      239\n",
       "0.2265      193\n",
       "dtype: int64"
      ]
     },
     "execution_count": 195,
     "metadata": {},
     "output_type": "execute_result"
    }
   ],
   "source": [
    "df.value_counts(df['electricityKwhPrice'])"
   ]
  },
  {
   "cell_type": "code",
   "execution_count": 196,
   "id": "b60a38eb",
   "metadata": {},
   "outputs": [
    {
     "data": {
      "text/plain": [
       "date\n",
       "Feb20    79124\n",
       "May19    75987\n",
       "Oct19    66610\n",
       "Sep18    46796\n",
       "dtype: int64"
      ]
     },
     "execution_count": 196,
     "metadata": {},
     "output_type": "execute_result"
    }
   ],
   "source": [
    "df.value_counts(df['date'])"
   ]
  },
  {
   "cell_type": "code",
   "execution_count": null,
   "id": "e7223edb",
   "metadata": {},
   "outputs": [],
   "source": [
    "# drop scoutId -> immoscout id no information gain TODO: show no correlation \n",
    "# DROP: telekomHybridUploadSpeed, electricityBasePrice, electricityKwhPrice, description, facilities, scoutId, \n",
    "#       geo_bln, geo_krs, houseNumber, street, thermalChar, electricityBasePrice"
   ]
  }
 ],
 "metadata": {
  "kernelspec": {
   "display_name": "Python 3 (ipykernel)",
   "language": "python",
   "name": "python3"
  },
  "language_info": {
   "codemirror_mode": {
    "name": "ipython",
    "version": 3
   },
   "file_extension": ".py",
   "mimetype": "text/x-python",
   "name": "python",
   "nbconvert_exporter": "python",
   "pygments_lexer": "ipython3",
   "version": "3.10.8"
  }
 },
 "nbformat": 4,
 "nbformat_minor": 5
}
